{
 "cells": [
  {
   "cell_type": "code",
   "execution_count": 1,
   "metadata": {},
   "outputs": [
    {
     "data": {
      "image/png": "[encoded data removed]",
      "text/plain": [
       "<matplotlib.figure.Figure at 0xedbd8daba8>"
      ]
     },
     "metadata": {},
     "output_type": "display_data"
    }
   ],
   "source": [
    "import matplotlib.pyplot as plt\n",
    "tahun = [1950, 1970, 1990, 2010]\n",
    "populasi = [2.519, 3.692, 5.263, 6.972]\n",
    "plt.plot(tahun, populasi)\n",
    "plt.show()"
   ]
  },
  {
   "cell_type": "code",
   "execution_count": 2,
   "metadata": {},
   "outputs": [
    {
     "data": {
      "image/png": "[encoded data removed]",
      "text/plain": [
       "<matplotlib.figure.Figure at 0xedbf339080>"
      ]
     },
     "metadata": {},
     "output_type": "display_data"
    }
   ],
   "source": [
    "tahun = [1950, 1970, 1990, 2010]\n",
    "populasi = [2.519, 3.692, 5.263, 6.972]\n",
    "plt. scatter (tahun, populasi)\n",
    "plt.show()"
   ]
  },
  {
   "cell_type": "code",
   "execution_count": 3,
   "metadata": {
    "collapsed": true
   },
   "outputs": [],
   "source": [
    "tahun = [1950,\n",
    " 1951,\n",
    " 1952,\n",
    " 1953,\n",
    " 1954,\n",
    " 1955,\n",
    " 1956,\n",
    " 1957,\n",
    " 1958,\n",
    " 1959,\n",
    " 1960,\n",
    " 1961,\n",
    " 1962,\n",
    " 1963,\n",
    " 1964,\n",
    " 1965,\n",
    " 1966,\n",
    " 1967,\n",
    " 1968,\n",
    " 1969,\n",
    " 1970,\n",
    " 1971,\n",
    " 1972,\n",
    " 1973,\n",
    " 1974,\n",
    " 1975,\n",
    " 1976,\n",
    " 1977,\n",
    " 1978,\n",
    " 1979,\n",
    " 1980,\n",
    " 1981,\n",
    " 1982,\n",
    " 1983,\n",
    " 1984,\n",
    " 1985,\n",
    " 1986,\n",
    " 1987,\n",
    " 1988,\n",
    " 1989,\n",
    " 1990,\n",
    " 1991,\n",
    " 1992,\n",
    " 1993,\n",
    " 1994,\n",
    " 1995,\n",
    " 1996,\n",
    " 1997,\n",
    " 1998,\n",
    " 1999,\n",
    " 2000,\n",
    " 2001,\n",
    " 2002,\n",
    " 2003,\n",
    " 2004,\n",
    " 2005,\n",
    " 2006,\n",
    " 2007,\n",
    " 2008,\n",
    " 2009,\n",
    " 2010,\n",
    " 2011,\n",
    " 2012,\n",
    " 2013,\n",
    " 2014,\n",
    " 2015,\n",
    " 2016,\n",
    " 2017,\n",
    " 2018,\n",
    " 2019,\n",
    " 2020,\n",
    " 2021,\n",
    " 2022,\n",
    " 2023,\n",
    " 2024,\n",
    " 2025,\n",
    " 2026,\n",
    " 2027,\n",
    " 2028,\n",
    " 2029,\n",
    " 2030,\n",
    " 2031,\n",
    " 2032,\n",
    " 2033,\n",
    " 2034,\n",
    " 2035,\n",
    " 2036,\n",
    " 2037,\n",
    " 2038,\n",
    " 2039,\n",
    " 2040,\n",
    " 2041,\n",
    " 2042,\n",
    " 2043,\n",
    " 2044,\n",
    " 2045,\n",
    " 2046,\n",
    " 2047,\n",
    " 2048,\n",
    " 2049,\n",
    " 2050,\n",
    " 2051,\n",
    " 2052,\n",
    " 2053,\n",
    " 2054,\n",
    " 2055,\n",
    " 2056,\n",
    " 2057,\n",
    " 2058,\n",
    " 2059,\n",
    " 2060,\n",
    " 2061,\n",
    " 2062,\n",
    " 2063,\n",
    " 2064,\n",
    " 2065,\n",
    " 2066,\n",
    " 2067,\n",
    " 2068,\n",
    " 2069,\n",
    " 2070,\n",
    " 2071,\n",
    " 2072,\n",
    " 2073,\n",
    " 2074,\n",
    " 2075,\n",
    " 2076,\n",
    " 2077,\n",
    " 2078,\n",
    " 2079,\n",
    " 2080,\n",
    " 2081,\n",
    " 2082,\n",
    " 2083,\n",
    " 2084,\n",
    " 2085,\n",
    " 2086,\n",
    " 2087,\n",
    " 2088,\n",
    " 2089,\n",
    " 2090,\n",
    " 2091,\n",
    " 2092,\n",
    " 2093,\n",
    " 2094,\n",
    " 2095,\n",
    " 2096,\n",
    " 2097,\n",
    " 2098,\n",
    " 2099,\n",
    " 2100]"
   ]
  },
  {
   "cell_type": "code",
   "execution_count": 4,
   "metadata": {
    "collapsed": true
   },
   "outputs": [],
   "source": [
    "populasi = [2.53,\n",
    " 2.57,\n",
    " 2.62,\n",
    " 2.67,\n",
    " 2.71,\n",
    " 2.76,\n",
    " 2.81,\n",
    " 2.86,\n",
    " 2.92,\n",
    " 2.97,\n",
    " 3.03,\n",
    " 3.08,\n",
    " 3.14,\n",
    " 3.2,\n",
    " 3.26,\n",
    " 3.33,\n",
    " 3.4,\n",
    " 3.47,\n",
    " 3.54,\n",
    " 3.62,\n",
    " 3.69,\n",
    " 3.77,\n",
    " 3.84,\n",
    " 3.92,\n",
    " 4.0,\n",
    " 4.07,\n",
    " 4.15,\n",
    " 4.22,\n",
    " 4.3,\n",
    " 4.37,\n",
    " 4.45,\n",
    " 4.53,\n",
    " 4.61,\n",
    " 4.69,\n",
    " 4.78,\n",
    " 4.86,\n",
    " 4.95,\n",
    " 5.05,\n",
    " 5.14,\n",
    " 5.23,\n",
    " 5.32,\n",
    " 5.41,\n",
    " 5.49,\n",
    " 5.58,\n",
    " 5.66,\n",
    " 5.74,\n",
    " 5.82,\n",
    " 5.9,\n",
    " 5.98,\n",
    " 6.05,\n",
    " 6.13,\n",
    " 6.2,\n",
    " 6.28,\n",
    " 6.36,\n",
    " 6.44,\n",
    " 6.51,\n",
    " 6.59,\n",
    " 6.67,\n",
    " 6.75,\n",
    " 6.83,\n",
    " 6.92,\n",
    " 7.0,\n",
    " 7.08,\n",
    " 7.16,\n",
    " 7.24,\n",
    " 7.32,\n",
    " 7.4,\n",
    " 7.48,\n",
    " 7.56,\n",
    " 7.64,\n",
    " 7.72,\n",
    " 7.79,\n",
    " 7.87,\n",
    " 7.94,\n",
    " 8.01,\n",
    " 8.08,\n",
    " 8.15,\n",
    " 8.22,\n",
    " 8.29,\n",
    " 8.36,\n",
    " 8.42,\n",
    " 8.49,\n",
    " 8.56,\n",
    " 8.62,\n",
    " 8.68,\n",
    " 8.74,\n",
    " 8.8,\n",
    " 8.86,\n",
    " 8.92,\n",
    " 8.98,\n",
    " 9.04,\n",
    " 9.09,\n",
    " 9.15,\n",
    " 9.2,\n",
    " 9.26,\n",
    " 9.31,\n",
    " 9.36,\n",
    " 9.41,\n",
    " 9.46,\n",
    " 9.5,\n",
    " 9.55,\n",
    " 9.6,\n",
    " 9.64,\n",
    " 9.68,\n",
    " 9.73,\n",
    " 9.77,\n",
    " 9.81,\n",
    " 9.85,\n",
    " 9.88,\n",
    " 9.92,\n",
    " 9.96,\n",
    " 9.99,\n",
    " 10.03,\n",
    " 10.06,\n",
    " 10.09,\n",
    " 10.13,\n",
    " 10.16,\n",
    " 10.19,\n",
    " 10.22,\n",
    " 10.25,\n",
    " 10.28,\n",
    " 10.31,\n",
    " 10.33,\n",
    " 10.36,\n",
    " 10.38,\n",
    " 10.41,\n",
    " 10.43,\n",
    " 10.46,\n",
    " 10.48,\n",
    " 10.5,\n",
    " 10.52,\n",
    " 10.55,\n",
    " 10.57,\n",
    " 10.59,\n",
    " 10.61,\n",
    " 10.63,\n",
    " 10.65,\n",
    " 10.66,\n",
    " 10.68,\n",
    " 10.7,\n",
    " 10.72,\n",
    " 10.73,\n",
    " 10.75,\n",
    " 10.77,\n",
    " 10.78,\n",
    " 10.79,\n",
    " 10.81,\n",
    " 10.82,\n",
    " 10.83,\n",
    " 10.84,\n",
    " 10.85]"
   ]
  },
  {
   "cell_type": "code",
   "execution_count": 5,
   "metadata": {},
   "outputs": [
    {
     "data": {
      "image/png": "[encoded data removed]",
      "text/plain": [
       "<matplotlib.figure.Figure at 0xedbf8844e0>"
      ]
     },
     "metadata": {},
     "output_type": "display_data"
    }
   ],
   "source": [
    "plt.plot(tahun, populasi)\n",
    "plt.show()"
   ]
  },
  {
   "cell_type": "code",
   "execution_count": 6,
   "metadata": {},
   "outputs": [
    {
     "data": {
      "image/png": "[encoded data removed]",
      "text/plain": [
       "<matplotlib.figure.Figure at 0xedbfbe54a8>"
      ]
     },
     "metadata": {},
     "output_type": "display_data"
    }
   ],
   "source": [
    "plt.plot(tahun, populasi)\n",
    "plt.xlabel('Tahun')\n",
    "plt.ylabel('Populasi')\n",
    "plt.show()"
   ]
  },
  {
   "cell_type": "code",
   "execution_count": 7,
   "metadata": {},
   "outputs": [
    {
     "data": {
      "image/png": "[encoded data removed]",
      "text/plain": [
       "<matplotlib.figure.Figure at 0xedbfc58dd8>"
      ]
     },
     "metadata": {},
     "output_type": "display_data"
    }
   ],
   "source": [
    "plt.plot(tahun, populasi)\n",
    "plt.xlabel('Tahun')\n",
    "plt.ylabel('Populasi')\n",
    "plt.title('World Population Projections')\n",
    "plt.show()"
   ]
  },
  {
   "cell_type": "code",
   "execution_count": 8,
   "metadata": {},
   "outputs": [
    {
     "data": {
      "image/png": "[encoded data removed]",
      "text/plain": [
       "<matplotlib.figure.Figure at 0xedbfcea8d0>"
      ]
     },
     "metadata": {},
     "output_type": "display_data"
    }
   ],
   "source": [
    "plt.plot(tahun, populasi)\n",
    "plt.xlabel('Tahun')\n",
    "plt.ylabel('Populasi')\n",
    "plt.title('World Population Projections')\n",
    "plt.yticks([1, 3, 5, 7, 9, 11])\n",
    "plt.show()"
   ]
  },
  {
   "cell_type": "code",
   "execution_count": 9,
   "metadata": {},
   "outputs": [
    {
     "data": {
      "image/png": "[encoded data removed]",
      "text/plain": [
       "<matplotlib.figure.Figure at 0xedbfd79c88>"
      ]
     },
     "metadata": {},
     "output_type": "display_data"
    }
   ],
   "source": [
    "plt.plot(tahun, populasi)\n",
    "plt.xlabel('Tahun')\n",
    "plt.ylabel('Populasi')\n",
    "plt.title('World Population Projections')\n",
    "plt.xticks([1950, 1975, 2000, 2025, 2050, 2075, 2100])\n",
    "plt.yticks([1, 3, 5, 7, 9, 11])\n",
    "plt.show()"
   ]
  },
  {
   "cell_type": "code",
   "execution_count": 10,
   "metadata": {},
   "outputs": [
    {
     "ename": "SyntaxError",
     "evalue": "invalid syntax (<ipython-input-10-3907e3ba4307>, line 6)",
     "output_type": "error",
     "traceback": [
      "\u001b[1;36m  File \u001b[1;32m\"<ipython-input-10-3907e3ba4307>\"\u001b[1;36m, line \u001b[1;32m6\u001b[0m\n\u001b[1;33m    plt.yticks([1M, 3M, 5M, 7M, 9M, 11M])\u001b[0m\n\u001b[1;37m                 ^\u001b[0m\n\u001b[1;31mSyntaxError\u001b[0m\u001b[1;31m:\u001b[0m invalid syntax\n"
     ]
    }
   ],
   "source": [
    "plt.plot(tahun, populasi)\n",
    "plt.xlabel('Tahun')\n",
    "plt.ylabel('Populasi')\n",
    "plt.title('World Population Projections')\n",
    "plt.xticks([1950, 1975, 2000, 2025, 2050, 2075, 2100])\n",
    "plt.yticks([1M, 3M, 5M, 7M, 9M, 11M])\n",
    "plt.show()"
   ]
  },
  {
   "cell_type": "code",
   "execution_count": 11,
   "metadata": {},
   "outputs": [
    {
     "data": {
      "image/png": "[encoded data removed]",
      "text/plain": [
       "<matplotlib.figure.Figure at 0xedbfdb2518>"
      ]
     },
     "metadata": {},
     "output_type": "display_data"
    }
   ],
   "source": [
    "plt.plot(tahun, populasi)\n",
    "plt.xlabel('Tahun')\n",
    "plt.ylabel('Populasi')\n",
    "plt.title('World Population Projections')\n",
    "plt.xticks([1950, 1975, 2000, 2025, 2050, 2075, 2100])\n",
    "plt.yticks([1, 3, 5, 7, 9, 11], ['1M', '3M', '5M', '7M', '9M', '11M'])\n",
    "plt.show()"
   ]
  },
  {
   "cell_type": "code",
   "execution_count": null,
   "metadata": {
    "collapsed": true
   },
   "outputs": [],
   "source": []
  }
 ],
 "metadata": {
  "kernelspec": {
   "display_name": "Python 3",
   "language": "python",
   "name": "python3"
  },
  "language_info": {
   "codemirror_mode": {
    "name": "ipython",
    "version": 3
   },
   "file_extension": ".py",
   "mimetype": "text/x-python",
   "name": "python",
   "nbconvert_exporter": "python",
   "pygments_lexer": "ipython3",
   "version": "3.6.8"
  }
 },
 "nbformat": 4,
 "nbformat_minor": 2
}
